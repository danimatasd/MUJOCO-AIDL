{
  "nbformat": 4,
  "nbformat_minor": 0,
  "metadata": {
    "kernelspec": {
      "name": "python3",
      "display_name": "Python 3"
    },
    "language_info": {
      "name": "python"
    },
    "colab": {
      "provenance": []
    },
    "accelerator": "GPU",
    "gpuClass": "standard"
  },
  "cells": [
    {
      "cell_type": "markdown",
      "metadata": {
        "id": "CExziYkkFVl5"
      },
      "source": [
        "##HALF CHEETAH V3- Video output from a run of a previously trained model from our other Colab\n"
      ]
    },
    {
      "cell_type": "markdown",
      "metadata": {
        "id": "8X0JMdvPhCM8"
      },
      "source": [
        "# Installing dependencies"
      ]
    },
    {
      "cell_type": "code",
      "source": [
        "!pip install swig --quiet \n",
        "!pip install wandb --quiet \n",
        "!pip install install free-mujoco-py --quiet \n",
        "!pip install pyvirtualdisplay==0.2.* --quiet \n",
        "!pip install PyOpenGL==3.1.* --quiet \n",
        "!pip install PyOpenGL-accelerate==3.1.* --quiet \n",
        "!pip install jedi --quiet \n",
        "!pip install imageio --quiet \n",
        "!pip install pyglet==1.4 --quiet \n",
        "!pip install stable-baselines3[extra] --quiet  "
      ],
      "metadata": {
        "id": "wu6i8zOikQZU"
      },
      "execution_count": null,
      "outputs": []
    },
    {
      "cell_type": "code",
      "source": [
        "!apt-get install -y \\\n",
        "    libgl1-mesa-dev \\\n",
        "    libgl1-mesa-glx \\\n",
        "    libglew-dev \\\n",
        "    libosmesa6-dev \\\n",
        "    software-properties-common\n",
        "!apt-get install -y patchelf    \n",
        "!apt-get -qq install -y xvfb x11-utils\n",
        "!apt-get install ffmpeg freeglut3-dev xvfb"
      ],
      "metadata": {
        "id": "l_Y_7MLokSQA"
      },
      "execution_count": null,
      "outputs": []
    },
    {
      "cell_type": "markdown",
      "metadata": {
        "id": "PzQyazSWhEtK"
      },
      "source": [
        "# Setting up the environment"
      ]
    },
    {
      "cell_type": "code",
      "metadata": {
        "id": "tpAZq1Pq7ztO"
      },
      "source": [
        "import base64\n",
        "import glob\n",
        "import io\n",
        "import os\n",
        "import math\n",
        "import timeit\n",
        "import warnings\n",
        "\n",
        "from IPython.display import HTML\n",
        "from IPython.display import display"
      ],
      "execution_count": 3,
      "outputs": []
    },
    {
      "cell_type": "code",
      "metadata": {
        "id": "Ymf9L79g7ztP"
      },
      "source": [
        "#import gymnasium as gym\n",
        "import gym\n",
        "import wandb\n",
        "import random\n",
        "\n",
        "import numpy as np\n",
        "from random import randint\n",
        "from collections import namedtuple"
      ],
      "execution_count": 4,
      "outputs": []
    },
    {
      "cell_type": "code",
      "source": [
        "#importing mujoco_py in order to use \"halfcheetah\"\n",
        "import mujoco_py"
      ],
      "metadata": {
        "id": "QAgFc5RAZqPu"
      },
      "execution_count": null,
      "outputs": []
    },
    {
      "cell_type": "code",
      "metadata": {
        "id": "HknLiQ2R7ztP"
      },
      "source": [
        "import torch\n",
        "import torch.nn as nn\n",
        "import torch.nn.functional as F\n",
        "\n",
        "from torch.distributions import MultivariateNormal\n",
        "from torch.distributions import Categorical\n",
        "\n",
        "from torch.utils.data.sampler import BatchSampler, SubsetRandomSampler\n",
        "# if gpu is to be used\n",
        "device = torch.device(\"cuda\" if torch.cuda.is_available() else \"cpu\")\n",
        "print(device)"
      ],
      "execution_count": null,
      "outputs": []
    },
    {
      "cell_type": "code",
      "metadata": {
        "id": "fJ9v0ENW7ztQ"
      },
      "source": [
        "# Starting a fake screen in the background\n",
        "# in order to render videos\n",
        "\n",
        "from pyvirtualdisplay import Display\n",
        "\n",
        "virtual_display = Display(visible=0, size=(1024,768),color_depth=24)\n",
        "virtual_display.start()\n",
        "\n",
        "\n",
        "# Utility to get video file from directory\n",
        "def get_video_filename(dir=\"video\"):\n",
        "  glob_mp4 = os.path.join(dir, \"*.mp4\") \n",
        "  mp4list = glob.glob(glob_mp4)\n",
        "  assert len(mp4list) > 0, \"couldnt find video files\"\n",
        "  return mp4list[-1]"
      ],
      "execution_count": 7,
      "outputs": []
    },
    {
      "cell_type": "code",
      "metadata": {
        "id": "RWlOLyKp7ztR"
      },
      "source": [
        "PROJECT = \"AIDL-PPO-HALFCHEETAH-VIDEO\""
      ],
      "execution_count": 8,
      "outputs": []
    },
    {
      "cell_type": "code",
      "source": [
        "wandb.login()"
      ],
      "metadata": {
        "id": "EBuMwkdgdAav"
      },
      "execution_count": null,
      "outputs": []
    },
    {
      "cell_type": "markdown",
      "metadata": {
        "id": "7IPb1a_T04rP"
      },
      "source": [
        "# MODEL"
      ]
    },
    {
      "cell_type": "code",
      "metadata": {
        "id": "XO-6HJSJ7ztS"
      },
      "source": [
        "class Agent(nn.Module):\n",
        "    def __init__(self, obs_len, act_len, action_std_init):\n",
        "        super(Agent, self).__init__()\n",
        "        \n",
        "        self.obs_len = obs_len\n",
        "        self.act_len = act_len\n",
        "\n",
        "        self.mlp = nn.Sequential(\n",
        "            nn.Linear(obs_len, 64),\n",
        "            nn.Tanh(),\n",
        "            nn.Linear(64, 128),\n",
        "            nn.Tanh(),\n",
        "        )\n",
        "\n",
        "        self.actor = nn.Linear(128, act_len)\n",
        "        self.critic = nn.Linear(128, 1)\n",
        "        \n",
        "\n",
        "    def forward(self, state):\n",
        "        out = self.mlp(state)\n",
        "        action_scores = self.actor(out)\n",
        "        state_value = self.critic(out)\n",
        "        return torch.tanh(action_scores), state_value\n",
        "\n",
        "    def compute_action(self, state, action_std):\n",
        "        state = torch.from_numpy(state).float().unsqueeze(0)\n",
        "        probs, state_value = self(state)\n",
        "\n",
        "        action_var = torch.full((self.act_len,), action_std * action_std)\n",
        "        cov_mat = torch.diag(action_var).unsqueeze(dim=0)\n",
        "      \n",
        "        m = torch.distributions.multivariate_normal.MultivariateNormal(probs, cov_mat)\n",
        "        \n",
        "        action = m.sample()\n",
        "        \n",
        "        action_clamped = action.clamp(-1.0, 1.0)\n",
        "      \n",
        "        return action_clamped.detach().numpy(), m.log_prob(action_clamped).detach().numpy(), state_value.detach()"
      ],
      "execution_count": 10,
      "outputs": []
    },
    {
      "cell_type": "markdown",
      "metadata": {
        "id": "LFjk_O0g2__r"
      },
      "source": [
        "#Test Function"
      ]
    },
    {
      "cell_type": "code",
      "metadata": {
        "id": "JhYRqx977ztT"
      },
      "source": [
        "def test( action_std, env, policy):\n",
        "    state, ep_reward, done = env.reset(), 0, False\n",
        "    while not done:\n",
        "        action, _, _ = policy.compute_action(state, action_std)\n",
        "        state, reward, done, _ = env.step(action)\n",
        "        ep_reward += reward\n",
        "    env.close()\n",
        "    mp4 = get_video_filename()\n",
        "    wandb.log({\"Video eval\": wandb.Video(mp4, fps=4, format=\"mp4\")})\n",
        "    return ep_reward"
      ],
      "execution_count": 11,
      "outputs": []
    },
    {
      "cell_type": "markdown",
      "metadata": {
        "id": "0TPjGR9HNNXl"
      },
      "source": [
        "# Load a Model and render video"
      ]
    },
    {
      "cell_type": "code",
      "metadata": {
        "id": "vKwjyGoO7ztU"
      },
      "source": [
        "# Create environment\n",
        "env_name = \"HalfCheetah-v3\"\n",
        "env = gym.make(env_name)\n",
        "env = gym.wrappers.RecordVideo(env, \"./video\" )"
      ],
      "execution_count": 12,
      "outputs": []
    },
    {
      "cell_type": "code",
      "metadata": {
        "id": "Ip16yT9u7ztU",
        "colab": {
          "base_uri": "https://localhost:8080/"
        },
        "outputId": "4ca7c314-223f-4150-a539-4c9ac7714817"
      },
      "source": [
        "# Get number of actions from gym action space\n",
        "n_inputs = env.observation_space.shape[0]\n",
        "n_actions = env.action_space.shape[0]\n",
        "print(n_inputs)\n",
        "print(n_actions)"
      ],
      "execution_count": 13,
      "outputs": [
        {
          "output_type": "stream",
          "name": "stdout",
          "text": [
            "17\n",
            "6\n"
          ]
        }
      ]
    },
    {
      "cell_type": "code",
      "source": [
        "hparams = {\n",
        "    'gamma' : 0.99,\n",
        "    'log_interval' : 10,\n",
        "    'num_episodes': 50000,\n",
        "    'lr' : 1e-4,\n",
        "    'clip_param': 0.1,\n",
        "    'ppo_epoch': 45,\n",
        "    'replay_size': 600,\n",
        "    'batch_size': 128,\n",
        "    'c1': 3.,\n",
        "    'c2': 0.01,\n",
        "    'std_init': 1.0, #This value should be the Action_std that was used on that episode in particular taken from the log from the train run\n",
        "    'video_interval': 200\n",
        "}\n"
      ],
      "metadata": {
        "id": "6DUBYcueblvf"
      },
      "execution_count": 14,
      "outputs": []
    },
    {
      "cell_type": "code",
      "source": [
        "#We should use the same seed as in the training but it shouldnt affect too much with the pretrained model.\n",
        "seed=0\n",
        "env.seed(seed)\n",
        "random.seed(seed)\n",
        "torch.manual_seed(seed)\n",
        "torch.cuda.manual_seed(seed)\n",
        "\n",
        "#The action_std will be directly \n",
        "action_std =  hparams['std_init']\n",
        "wandb.finish()\n",
        "\n",
        "wandb.init(project=PROJECT, config=hparams)\n",
        "wandb.run.name = 'ppo_halfcheetah_test_video'\n",
        "\n",
        "#Retrieving the model collected from the training colab, important that the model is saved as model.pt so the path is correct.\n",
        "policy = torch.load(\"/content/model.pt\")\n",
        "\n",
        "#Apply the test function to try the model with a single episode and save the video on wandb\n",
        "ep_reward = test(action_std, env, policy)\n",
        "\n",
        "wandb.finish()"
      ],
      "metadata": {
        "id": "fAE69svzbBNW"
      },
      "execution_count": null,
      "outputs": []
    }
  ]
}